{
 "cells": [
  {
   "cell_type": "code",
   "execution_count": null,
   "metadata": {},
   "outputs": [],
   "source": [
    "x1= int(input('Enter the x1 coordinate: '))\n",
    "y1 = int(input('Enter the y1 coordinate: '))\n",
    "x2 = int(input('Enter the x2 coordinate: '))\n",
    "y2 = int(input('Enter the y2 coordinate: '))\n",
    "#calculamos la distancia entre dos puntos:"
   ]
  }
 ],
 "metadata": {
  "language_info": {
   "name": "python"
  },
  "orig_nbformat": 4
 },
 "nbformat": 4,
 "nbformat_minor": 2
}
